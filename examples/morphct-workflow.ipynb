{
 "cells": [
  {
   "cell_type": "markdown",
   "id": "smoking-milton",
   "metadata": {},
   "source": [
    "# MorphCT Example Workflow\n",
    "\n",
    "1. Start with an atomistic snapshot\n",
    "2. Determine which atom indices belong to which chromophore using [SMARTS](https://www.daylight.com/dayhtml/doc/theory/theory.smarts.html) matching\n",
    "3. Calculate the energies for each chromophore and chromophore pair using quantum chemical calculations (QCC)\n",
    "4. Run the kinetic monte carlo (KMC) algorithm to calculate charge mobility"
   ]
  },
  {
   "cell_type": "markdown",
   "id": "approximate-greeting",
   "metadata": {},
   "source": [
    "First let's import necessary modules:"
   ]
  },
  {
   "cell_type": "code",
   "execution_count": null,
   "id": "cardiac-boulder",
   "metadata": {},
   "outputs": [],
   "source": [
    "from copy import deepcopy\n",
    "import os\n",
    "import multiprocessing as mp\n",
    "\n",
    "import gsd.hoomd\n",
    "import mbuild as mb\n",
    "import numpy as np\n",
    "\n",
    "from morphct import execute_qcc as eqcc\n",
    "from morphct import mobility_kmc as kmc\n",
    "from morphct import chromophores\n",
    "from morphct import kmc_analyze\n",
    "from morphct.chromophores import conversion_dict\n",
    "\n",
    "# A couple functions useful for visualization are included in a .py file in this directory \n",
    "from ex_scripts import visualize_qcc_input, from_snapshot"
   ]
  },
  {
   "cell_type": "markdown",
   "id": "binary-statistics",
   "metadata": {},
   "source": [
    "Here's our starting structure, an atomistic (not coarse-grain or united atom) gsd file with 2 p3ht 15-mers:"
   ]
  },
  {
   "cell_type": "code",
   "execution_count": null,
   "id": "applied-pharmacology",
   "metadata": {},
   "outputs": [],
   "source": [
    "with gsd.hoomd.open(name='../morphct/tests/assets/p3ht_2_15mers.gsd', mode='rb') as f:\n",
    "    snap = f[0]\n",
    "\n",
    "# It is expected that the snapshot is in the Angstrom length scale.\n",
    "# If not, it can be scaled as follows (set `scale` equal to the scaling factor)\n",
    "scale = 1.0 \n",
    "snap.particles.position *= scale\n",
    "snap.configuration.box[:3] *= scale\n",
    "\n",
    "# These lines are only necessary to visualize the snapshot\n",
    "box = snap.configuration.box[:3]\n",
    "unwrapped_positions = snap.particles.position + snap.particles.image * box\n",
    "unwrap_snap = deepcopy(snap)\n",
    "unwrap_snap.particles.position = unwrapped_positions\n",
    "unwrap_snap.particles.types = [conversion_dict[i].symbol for i in snap.particles.types]\n",
    "comp = from_snapshot(unwrap_snap, scale=0.1) # convert to nm\n",
    "comp.visualize().show()"
   ]
  },
  {
   "cell_type": "markdown",
   "id": "basic-treatment",
   "metadata": {},
   "source": [
    "Next let's use SMARTS matching to detect our chromophores. This SMARTS string is for (a generalized) p3ht. The `conversion_dict` is a dictionary which converts atom type to element.\n",
    "\n",
    "Note: The positions/orientations in the gsd file are not optimal, so openbabel has a tough time recognizing them as aromatic -- this is why I am defining the SMARTS by element (`[#6]`) instead of aromatic carbon (`c`) and even so, one chromophore is not detected correctly. If we were running a simulation workflow from scratch, I would recommend using the first frame (before any distortion) for smarts matching and then mapping those indices to the final structure."
   ]
  },
  {
   "cell_type": "code",
   "execution_count": null,
   "id": "rocky-racing",
   "metadata": {},
   "outputs": [],
   "source": [
    "smarts_str = \"[#6]1[#6][#16][#6][#6]1CCCCCC\"\n",
    "\n",
    "aaids = chromophores.get_chromo_ids_smiles(snap, smarts_str, conversion_dict)"
   ]
  },
  {
   "cell_type": "markdown",
   "id": "framed-dealing",
   "metadata": {},
   "source": [
    "For two 15-mers with each monomer being a chromophore, we expect 30 chromophores. Basically, the smarts matching misses one chromophore. So I have to add it manually. \n",
    "\n",
    "The visualization below shows the detected chromophores in pink and the missed one in blue:"
   ]
  },
  {
   "cell_type": "code",
   "execution_count": null,
   "id": "biblical-rotation",
   "metadata": {},
   "outputs": [],
   "source": [
    "missed_inds = np.array([727,728,729,730,731,732,733,734,735,736,737])\n",
    "\n",
    "for i,p in enumerate(comp.particles()):\n",
    "    if i in np.hstack(aaids):\n",
    "        p.name = \"Kr\"\n",
    "    elif i in missed_inds:\n",
    "        p.name = \"N\"\n",
    "comp.visualize().show()\n",
    "\n",
    "aaids.append(missed_inds)"
   ]
  },
  {
   "cell_type": "markdown",
   "id": "divine-pakistan",
   "metadata": {},
   "source": [
    "Next let's make a Chromophore object for each detected chromophore and add them to a list:"
   ]
  },
  {
   "cell_type": "code",
   "execution_count": null,
   "id": "second-lafayette",
   "metadata": {},
   "outputs": [],
   "source": [
    "chromo_list = []\n",
    "for i,aaid in enumerate(aaids):\n",
    "    chromo_list.append(chromophores.Chromophore(i, snap, aaid, \"donor\", conversion_dict))"
   ]
  },
  {
   "cell_type": "markdown",
   "id": "conservative-installation",
   "metadata": {},
   "source": [
    "Next let's compute (using voronoi analysis) which chromophores are neighbors. `qcc_pairs` is a list containing the indices of the pair and the pair's qcc input: `((i,j), qcc_input)`\n"
   ]
  },
  {
   "cell_type": "code",
   "execution_count": null,
   "id": "photographic-nirvana",
   "metadata": {},
   "outputs": [],
   "source": [
    "qcc_pairs = chromophores.set_neighbors_voronoi(\n",
    "    chromo_list, snap, conversion_dict, d_cut=min(box)/2\n",
    ")\n",
    "print(f\"There are {len(qcc_pairs)} chromophore pairs\")"
   ]
  },
  {
   "cell_type": "markdown",
   "id": "military-northwest",
   "metadata": {},
   "source": [
    "Before running any QCC we can check that the pair and singles inputs look reasonable. There won't be any bonds and hydrogen atoms should've been added."
   ]
  },
  {
   "cell_type": "code",
   "execution_count": null,
   "id": "endless-serbia",
   "metadata": {},
   "outputs": [],
   "source": [
    "i = 13 # try any number from 0 to 180\n",
    "print(f\"Pair #{i}:\")\n",
    "visualize_qcc_input(qcc_pairs[i][1])\n",
    "\n",
    "i = 0 # try any number from 0 to 29\n",
    "print(f\"Single #{i}:\")\n",
    "visualize_qcc_input(chromo_list[i].qcc_input)"
   ]
  },
  {
   "cell_type": "markdown",
   "id": "suburban-beatles",
   "metadata": {},
   "source": [
    "Next we need to get the single and pair energies which will be used in the QCC calculations. These take a little time, so these functions are designed to save to a file. We'll first make the directory and define the filenames."
   ]
  },
  {
   "cell_type": "code",
   "execution_count": null,
   "id": "acquired-metadata",
   "metadata": {},
   "outputs": [],
   "source": [
    "outpath = os.path.join(os.getcwd(), \"output\")\n",
    "if not os.path.exists(outpath):\n",
    "    os.makedirs(outpath)\n",
    "s_filename = os.path.join(outpath, \"singles_energies.txt\")\n",
    "d_filename = os.path.join(outpath, \"dimer_energies.txt\")"
   ]
  },
  {
   "cell_type": "markdown",
   "id": "welsh-operations",
   "metadata": {},
   "source": [
    "MorphCT uses multiprocessing to run calculations in parallel.\n",
    "\n",
    "`eqcc.get_homolumo(chromo_list[0].qcc_input)` operates on one chromophore and returns HOMO-1, HOMO, LUMO, LUMO+1\n",
    "\n",
    "`eqcc.singles_homolumo` does this for all chromophores and saves the energies to a file."
   ]
  },
  {
   "cell_type": "code",
   "execution_count": null,
   "id": "ambient-penguin",
   "metadata": {},
   "outputs": [],
   "source": [
    "%%time\n",
    "data = eqcc.singles_homolumo(chromo_list, s_filename)\n",
    "\n",
    "# Approx time required:\n",
    "# CPU times: user 20.9 ms, sys: 30.1 ms, total: 51 ms\n",
    "# Wall time: 6.05 s"
   ]
  },
  {
   "cell_type": "markdown",
   "id": "statewide-delaware",
   "metadata": {},
   "source": [
    "Next let's compute the pair energies:"
   ]
  },
  {
   "cell_type": "code",
   "execution_count": null,
   "id": "qualified-jaguar",
   "metadata": {},
   "outputs": [],
   "source": [
    "%%time\n",
    "dimer_data = eqcc.dimer_homolumo(qcc_pairs, d_filename)\n",
    "\n",
    "# Approx time required:\n",
    "# CPU times: user 20.3 ms, sys: 27.2 ms, total: 47.6 ms\n",
    "# Wall time: 56.6 s"
   ]
  },
  {
   "cell_type": "markdown",
   "id": "intended-praise",
   "metadata": {},
   "source": [
    "Once the energy files are finsihed, we can use them to set the energy values of the chromophores in the list"
   ]
  },
  {
   "cell_type": "code",
   "execution_count": null,
   "id": "searching-patio",
   "metadata": {},
   "outputs": [],
   "source": [
    "eqcc.set_energyvalues(chromo_list, s_filename, d_filename)"
   ]
  },
  {
   "cell_type": "markdown",
   "id": "simplified-prayer",
   "metadata": {},
   "source": [
    "This function sets the homo_1, homo, lumo, lumo_1, neighbors_delta_e, and neighbors_ti of each chromphore."
   ]
  },
  {
   "cell_type": "code",
   "execution_count": null,
   "id": "general-crawford",
   "metadata": {},
   "outputs": [],
   "source": [
    "i = 0\n",
    "chromo = chromo_list[i]\n",
    "print(f\"Chromophore {i}:\")\n",
    "print(\n",
    "    f\"HOMO-1: {chromo.homo_1:.2f} HOMO: {chromo.homo:.2f} LUMO: {chromo.lumo:.2f} \"\n",
    "    f\"LUMO+1: {chromo.lumo_1:.2f}\"\n",
    ")\n",
    "print(f\"{len(chromo.neighbors)} neighbors\")\n",
    "print(f\"DeltaE of first neighbor: {chromo.neighbors_delta_e[0]:.3f}\")\n",
    "print(f\"Transfer integral of first neighbor: {chromo.neighbors_ti[0]:.3f}\")"
   ]
  },
  {
   "cell_type": "markdown",
   "id": "understanding-injection",
   "metadata": {},
   "source": [
    "With all the energy values set, we're ready to run KMC! First we'll make a directory:"
   ]
  },
  {
   "cell_type": "code",
   "execution_count": null,
   "id": "healthy-nickname",
   "metadata": {},
   "outputs": [],
   "source": [
    "kmc_dir = os.path.join(outpath, \"kmc\")\n",
    "if not os.path.exists(kmc_dir):\n",
    "    os.makedirs(kmc_dir)"
   ]
  },
  {
   "cell_type": "markdown",
   "id": "dress-footwear",
   "metadata": {},
   "source": [
    "Next we'll run kmc on a random list of jobs in parallel using multiprocessing:"
   ]
  },
  {
   "cell_type": "code",
   "execution_count": null,
   "id": "normal-palace",
   "metadata": {},
   "outputs": [],
   "source": [
    "lifetimes = [1.00e-13, 1.00e-12]\n",
    "temp = 300\n",
    "combined_data = kmc.run_kmc(\n",
    "    lifetimes, kmc_dir, chromo_list, snap, temp, n_holes=10, verbose=1\n",
    ")"
   ]
  },
  {
   "cell_type": "markdown",
   "id": "electric-symposium",
   "metadata": {},
   "source": [
    "The output files for each process are saved in `output/kmc/kmc_PROC#.log` (where `PROC#` is whatever process number the job was run on):"
   ]
  },
  {
   "cell_type": "code",
   "execution_count": null,
   "id": "qualified-principle",
   "metadata": {},
   "outputs": [],
   "source": [
    "with open(os.path.join(kmc_dir, \"kmc_00.log\"), \"r\") as f:\n",
    "    lines = f.readlines()\n",
    "print(*lines)"
   ]
  },
  {
   "cell_type": "markdown",
   "id": "grateful-population",
   "metadata": {},
   "source": [
    "Finally we can analyze our results -- plots will be saved in `output/kmc/figures/`"
   ]
  },
  {
   "cell_type": "code",
   "execution_count": null,
   "id": "creative-principle",
   "metadata": {},
   "outputs": [],
   "source": [
    "kmc_analyze.main(combined_data, temp, chromo_list, snap, kmc_dir)"
   ]
  },
  {
   "cell_type": "code",
   "execution_count": null,
   "id": "immune-greene",
   "metadata": {},
   "outputs": [],
   "source": []
  }
 ],
 "metadata": {
  "kernelspec": {
   "display_name": "Python 3",
   "language": "python",
   "name": "python3"
  },
  "language_info": {
   "codemirror_mode": {
    "name": "ipython",
    "version": 3
   },
   "file_extension": ".py",
   "mimetype": "text/x-python",
   "name": "python",
   "nbconvert_exporter": "python",
   "pygments_lexer": "ipython3",
   "version": "3.7.10"
  }
 },
 "nbformat": 4,
 "nbformat_minor": 5
}
