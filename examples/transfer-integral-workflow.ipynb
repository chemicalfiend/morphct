{
 "cells": [
  {
   "cell_type": "markdown",
   "id": "71a40c5f",
   "metadata": {},
   "source": [
    "# Test an organic molecules HOMO/LUMO and Transfer Integral With morphCT.\n",
    "\n",
    "1. this notebooks seeks to display a simple workflow for using morphct functionalities to explore  the energetics of a given organic molecule. The energy level at the HOMO/LUMO is the foundation for everything morphct does. with that, veryfiying the accuracy of this calculation is a crucial first step when investigating a new molecule with morhct. \n",
    "2. In this notebook we will consider thiophene, which is the fundemental building block of P3HT (a benchmark electron donating compound. We will use to establish a worklow for comparing Morphct outputs with DFT or experimental results. However, this worklow should easily adapt to any organic compound whose energetic properties we might wish to investigate. \n",
    "3. Morphct models the charge mobility of a substance by considering where a charge may delocalize (on a chromophore) and modeling the rate at which that delocalized charge will hop to nieghboring molecules (or chromophores). Having done this for every chromophore in a morphology, morphct can run a simulation to model how well charges move around the environment.\n",
    "4. Morphct models the rate at which a hop will take place between any two chromophores with semi classical Marcus Theory. To do so requires an accurate description of the driving force for electron transfer, and the orbital overlap of the two chromophores. Both of these can be estimated with the chromophores energy levels at the HOMO/LUMO (highest occupied molecular orbital/ lowest unoccupies molecular orbital). This estimation is a simplification for computational purposes, and it is, therefore, critical to verify that these assumptions match more rigorous theoretical techniques like DFT and experimental results (to whatever degree they are available). \n",
    "5. In short, we will take two thiophene rings to be two chromophores. Morphct will calculate the HOMO of both chomophores as well as the orbital overlap between them, as measured by the transfer integral (also estimated by the interaction of the two chromophores HOMOs). We will repeat this over thousands of angles and distances between the two rings."
   ]
  },
  {
   "cell_type": "code",
   "execution_count": 1,
   "id": "cdc6954b",
   "metadata": {
    "tags": []
   },
   "outputs": [
    {
     "name": "stderr",
     "output_type": "stream",
     "text": [
      "/Users/jimmy/miniconda3/envs/morphct-ex/lib/python3.7/site-packages/h5py/__init__.py:46: DeprecationWarning: `np.typeDict` is a deprecated alias for `np.sctypeDict`.\n",
      "  from ._conv import register_converters as _register_converters\n"
     ]
    }
   ],
   "source": [
    "import os\n",
    "import mbuild as mb\n",
    "import gsd.hoomd\n",
    "import matplotlib.pyplot as plt\n",
    "from mbuild import packing\n",
    "import itertools as it\n",
    "import numpy as np\n",
    "from morphct import execute_qcc as eqcc\n",
    "from morphct import mobility_kmc as kmc\n",
    "from morphct import chromophores\n",
    "from morphct import kmc_analyze\n",
    "from morphct.chromophores import conversion_dict\n",
    "from morphct.chromophores import amber_dict"
   ]
  },
  {
   "cell_type": "markdown",
   "id": "fa835454",
   "metadata": {},
   "source": [
    "# Below we specify the smiles string for the molecule of interest (mbuild takes mol2 as well) and we use the mbuild fill_box to put two of these molecule in a box together with random orientations. We do this 100 times and save the outputs as gsds in the data/fillbox-gsds/ directory. Fill_box allows you to specifiy the density as well as the minimum distance apart that molecules should sit. In this case I have chosen .3nm, as this is what evans paper says is physically acceptable. "
   ]
  },
  {
   "cell_type": "code",
   "execution_count": 2,
   "id": "e9f4bacf",
   "metadata": {},
   "outputs": [],
   "source": [
    "#this is where you designate which molecule you want to investigate\n",
    "path = \"data/fillbox-gsds/\"\n",
    "thiophene = \"C1=CSC=C1\"\n",
    "molecule = mb.load(thiophene, smiles=True)\n",
    "transfer_integral_list_fillbox =[]"
   ]
  },
  {
   "cell_type": "code",
   "execution_count": 3,
   "id": "1c0517d9",
   "metadata": {
    "scrolled": true,
    "tags": []
   },
   "outputs": [],
   "source": [
    "if not os.path.isdir(\"data/fillbox-gsds/\"):\n",
    "    os.makedirs(\"data/fillbox-gsds/\")\n",
    "thiophene = \"C1=CSC=C1\"\n",
    "molecule = mb.load(thiophene, smiles=True)\n",
    "\n",
    "seed = 100\n",
    "\n",
    "for seed in range(seed):\n",
    "    \n",
    "    \n",
    "    system = packing.fill_box(molecule,\n",
    "                              n_compounds=2,\n",
    "                              density = 500,\n",
    "                              overlap = .3,\n",
    "                              seed=seed,\n",
    "                              fix_orientation=False)\n",
    "\n",
    "    system.save(path + str(seed)+ \".gsd\",overwrite=True)  "
   ]
  },
  {
   "cell_type": "markdown",
   "id": "b6ee54dd",
   "metadata": {},
   "source": [
    "# HOMO/LUMO\n",
    "With our gsds written out we can begin to use MorphCT to investigate the molecules energetics. First we will look at the HOMO/LUMO levels for thiophene, as calculated by MorphCT."
   ]
  },
  {
   "cell_type": "code",
   "execution_count": 4,
   "id": "a2492cb8",
   "metadata": {},
   "outputs": [
    {
     "name": "stdout",
     "output_type": "stream",
     "text": [
      "the HOMO for your molecule is -8.474013167764927 eV\n",
      "the LUMO is 0.7754333507914352 eV\n",
      "CPU times: user 16.6 ms, sys: 33.2 ms, total: 49.8 ms\n",
      "Wall time: 1.41 s\n"
     ]
    }
   ],
   "source": [
    "%%time\n",
    "with gsd.hoomd.open(name=path + \"1.gsd\", mode='rb') as f:\n",
    "    snap = f[0]\n",
    "#isolate the indeces for one thiophene for input into morph\n",
    "chromo_id = list(range(0,molecule.n_particles))\n",
    "chromo_list=[]\n",
    "\n",
    "chromo_list.append(chromophores.Chromophore(0, snap, chromo_id, \"donor\"))\n",
    "\n",
    "homolumo = eqcc.singles_homolumo(chromo_list)\n",
    "\n",
    "print(\"the HOMO for your molecule is \" + str(homolumo[0][1]) +\" eV\")\n",
    "print(\"the LUMO is \" + str(homolumo[0][2]) + \" eV\")\n"
   ]
  },
  {
   "cell_type": "markdown",
   "id": "9c625029",
   "metadata": {},
   "source": [
    "MorphCT uses pySCF to do the quantum chemical calculations behind the above numbers. PYSCF uses a MINDO3 method to simplify the calculation. As you can see it only took seconds to calculate (go ahead and solve shrodingers in that time I dare you). The diagram below shows that the numbers are comparable to the more rigorous DFT methods used in the [work shown below](https://doi.org/10.1016/j.molliq.2017.05.020). \n",
    "\n",
    "![](thiophene.jpg)"
   ]
  },
  {
   "cell_type": "markdown",
   "id": "2a50b9b9",
   "metadata": {},
   "source": [
    "# TRANSFER INTEGRALS\n",
    "Now we can get the transfer integral for our gsds. "
   ]
  },
  {
   "cell_type": "code",
   "execution_count": 5,
   "id": "455cb718",
   "metadata": {
    "tags": []
   },
   "outputs": [],
   "source": [
    "for file in os.listdir(path):\n",
    "    \n",
    "    with gsd.hoomd.open(name=path + file, mode='rb') as f:\n",
    "        snap = f[0]\n",
    "    # below just takes the indeces for particles in our gsds and\n",
    "    #splites them into two chromophores\n",
    "    chromo_ids = list(range(0,molecule.n_particles))\n",
    "    chromo2_ids = np.add(chromo_ids, molecule.n_particles).tolist()\n",
    "    ref_distance = 1\n",
    "    \n",
    "    snap.particles.position *= ref_distance\n",
    "    snap.configuration.box[:3] *= ref_distance\n",
    "    \n",
    "    aaids=[]\n",
    "    aaids.append(chromo_ids)\n",
    "    aaids.append(chromo2_ids)\n",
    "    chromo_list = []\n",
    "    for i,aaid in enumerate(aaids):\n",
    "        chromo_list.append(chromophores.Chromophore(i, snap, aaid, \"donor\"))\n",
    "        \n",
    "    qcc_pairs = chromophores.set_neighbors_voronoi(chromo_list, snap, d_cut=100)\n",
    "    \n",
    "    dimer_data = eqcc.dimer_homolumo(qcc_pairs, chromo_list, \"two-molecule-test.txt\")\n",
    "    \n",
    "    data = eqcc.singles_homolumo(chromo_list, \"singles.txt\")\n",
    "    \n",
    "    eqcc.set_energyvalues(chromo_list, \"singles.txt\", \"two-molecule-test.txt\")\n",
    "    chromo = chromo_list[1]\n",
    "    transfer_integral_list_fillbox.append(chromo.neighbors_ti[0])"
   ]
  },
  {
   "cell_type": "markdown",
   "id": "fb149390",
   "metadata": {},
   "source": [
    " That gives a sample of randomly oreinted thiophenes. Printing the average vs the max\n",
    " to get an understanding of the shape of the data. in the supplimental info of this paper\n",
    " (https://www.mdpi.com/2073-4360/10/12/1358) it says TI variation within a factor of 2-3 \n",
    " is not expected to effect the mobility calculation and this is within those bounds"
   ]
  },
  {
   "cell_type": "code",
   "execution_count": 6,
   "id": "51d800f6",
   "metadata": {},
   "outputs": [
    {
     "name": "stdout",
     "output_type": "stream",
     "text": [
      "0.07052841817959743\n"
     ]
    }
   ],
   "source": [
    "print(np.mean(transfer_integral_list_fillbox))"
   ]
  },
  {
   "cell_type": "code",
   "execution_count": 7,
   "id": "fb65f071",
   "metadata": {},
   "outputs": [
    {
     "name": "stdout",
     "output_type": "stream",
     "text": [
      "0.25026064645829643\n"
     ]
    }
   ],
   "source": [
    "print(np.max(transfer_integral_list_fillbox))"
   ]
  },
  {
   "cell_type": "markdown",
   "id": "996c1582",
   "metadata": {},
   "source": [
    "# Specifying oreintations\n",
    "\n",
    "1. If you want to do some analysis on specific oreintations of you molecule, the following code how this can be done. \n",
    "2. This analysis could take a very long time with a larger molecule. "
   ]
  },
  {
   "cell_type": "code",
   "execution_count": null,
   "id": "508b1683",
   "metadata": {
    "scrolled": true,
    "tags": []
   },
   "outputs": [],
   "source": [
    "heat_tuple_list = []\n",
    "transfer_integral_list = []\n",
    "path = \"data/analysis_gsds/\"\n",
    "if not os.path.isdir(\"data/analysis_gsds/\"):\n",
    "    os.makedirs(\"data/analysis_gsds\")\n",
    "smi = \"C1=CSC=C1\"\n",
    "thiophene = mb.load(smi, smiles=True)\n",
    "distances = np.linspace(0, 0.5, 4)\n",
    "angles = np.linspace(0, np.pi, 4) # rotate around the sulfur axis (x-axis)\n",
    "# or pitch although i cant understand why the sulfur isnt the cockpit\n",
    "snap_list = []\n",
    "#create a product space of distances and angles as delineated above. get two distances\n",
    "# and two angles. assuming distance is a distance from the origin the if the distances from\n",
    "# they are on top of each other and you can skip that one as in line 13\n",
    "for d1, a1, d2, a2 in it.product(distances, angles, repeat=2):\n",
    "    name = f\"thiophene_d-{d1:.1f}-{d2:.1f}_a-{a1:.1f}-{a2:.1f}.gsd\"\n",
    "    if d1 == 0 and d2 == 0:\n",
    "        continue\n",
    "    #trying to say if the c - c distance is less than .3nm from evans paper \n",
    "    #skip they are too close for real life. and above .5 the TI is too weak\n",
    "    #just from o\n",
    "    if np.sqrt(d1**2+d2**2) < .3 or np.sqrt(d1**2+d2**2) > .5:\n",
    "        continue\n",
    "    system = mb.Compound()\n",
    "    system.add(mb.clone(thiophene), \"1\")\n",
    "    system.add(mb.clone(thiophene), \"2\")\n",
    "    #system[\"2\"].rotate(a1, [0,0,1]) # rotate in plane\n",
    "    system[\"2\"].rotate(a2,[1,0,0])\n",
    "    system[\"2\"].translate([d1,0,d2])\n",
    "    system.save(\"data/analysis_gsds/\"+name, overwrite=True)\n",
    "    gsd_file = path + name\n",
    "    with gsd.hoomd.open(name=gsd_file, mode='rb') as f:\n",
    "        snap = f[0]\n",
    "        \n",
    "    ref_distance = 1\n",
    "    \n",
    "    snap.particles.position *= ref_distance\n",
    "    snap.configuration.box[:3] *= ref_distance\n",
    "    chromo_ids = np.array([0,1,2,3,4,5,6,7,8,])\n",
    "    chromo2_ids = np.array([9,10,11,12,13,14,15,16,17])\n",
    "    aaids=[]\n",
    "    aaids.append(chromo_ids)\n",
    "    aaids.append(chromo2_ids)\n",
    "    \n",
    "    chromo_list = []\n",
    "    for j,aaid in enumerate(aaids):\n",
    "        chromo_list.append(chromophores.Chromophore(j, snap, aaid, \"donor\"))\n",
    "        \n",
    "    qcc_pairs = chromophores.set_neighbors_voronoi(chromo_list, snap, d_cut=100)\n",
    "    \n",
    "    dimer_data = eqcc.dimer_homolumo(qcc_pairs, chromo_list, \"two-molecule-test.txt\")\n",
    "    \n",
    "    data = eqcc.singles_homolumo(chromo_list, \"singles.txt\")\n",
    "    \n",
    "    eqcc.set_energyvalues(chromo_list, \"singles.txt\", \"two-molecule-test.txt\")\n",
    "    \n",
    "    chromo =chromo_list[1]\n",
    "    #dont know if ill need this or if the math is right\n",
    "    #ss_dist= np.sqrt((d1*np.cos(a1))**2+(d1*np.sin(a1))**2+d2**2)\n",
    "    cc_dist = np.sqrt(d1**2+d2**2)\n",
    "    heat_tuple_list.append([cc_dist, a2 , chromo.neighbors_ti[0]])\n",
    "    \n",
    "    transfer_integral_list.append(chromo.neighbors_ti[0])"
   ]
  },
  {
   "cell_type": "code",
   "execution_count": null,
   "id": "9a2ae460",
   "metadata": {},
   "outputs": [],
   "source": [
    "import seaborn as sns\n",
    "x = [i[0] for i in heat_tuple_list]\n",
    "y = [i[1] for i in heat_tuple_list]\n",
    "z = [i[2] for i in heat_tuple_list]\n",
    "ax = plt.axes(projection='3d')\n",
    "ax.scatter(x, y, z, c=z, cmap='viridis', linewidth=0.5);"
   ]
  },
  {
   "cell_type": "code",
   "execution_count": null,
   "id": "7a897c2d",
   "metadata": {},
   "outputs": [],
   "source": []
  }
 ],
 "metadata": {
  "kernelspec": {
   "display_name": "Python 3",
   "language": "python",
   "name": "python3"
  },
  "language_info": {
   "codemirror_mode": {
    "name": "ipython",
    "version": 3
   },
   "file_extension": ".py",
   "mimetype": "text/x-python",
   "name": "python",
   "nbconvert_exporter": "python",
   "pygments_lexer": "ipython3",
   "version": "3.7.10"
  }
 },
 "nbformat": 4,
 "nbformat_minor": 5
}
