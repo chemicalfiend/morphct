{
 "cells": [
  {
   "cell_type": "markdown",
   "id": "respected-token",
   "metadata": {},
   "source": [
    "# MorphCT Example Workflow\n",
    "\n",
    "1. Start with an atomistic snapshot\n",
    "2. Determine which atom indices belong to which chromophore using [SMARTS](https://www.daylight.com/dayhtml/doc/theory/theory.smarts.html) matching\n",
    "3. Calculate the energies for each chromophore and chromophore pair using quantum chemical calculations (QCC)\n",
    "4. Run the kinetic monte carlo (KMC) algorithm to calculate charge mobility"
   ]
  },
  {
   "cell_type": "markdown",
   "id": "covered-genesis",
   "metadata": {},
   "source": [
    "First let's import necessary modules:"
   ]
  },
  {
   "cell_type": "code",
   "execution_count": null,
   "id": "corresponding-label",
   "metadata": {},
   "outputs": [],
   "source": [
    "import gsd.hoomd\n",
    "import numpy as np\n",
    "\n",
    "from morphct.chromophores import amber_dict, get_chromo_ids_smiles\n",
    "from morphct.system import System"
   ]
  },
  {
   "cell_type": "markdown",
   "id": "southern-deadline",
   "metadata": {},
   "source": [
    "In the cell below, we'll create a system object for morphct. This the main class that will hold all the information for our simulation. We'll need to give it a gsd file, path to an output directory, the frame of the gsd file to use, the scaling factor to convert the lengths in the gsd to Angstroms, and a dictionary to map particle types to elements. Here's our starting structure, an atomistic (not coarse-grain or united atom) gsd file with 2 p3ht 16-mers: "
   ]
  },
  {
   "cell_type": "code",
   "execution_count": null,
   "id": "increasing-alert",
   "metadata": {},
   "outputs": [],
   "source": [
    "gsdfile = \"p3ht-trajectory.gsd\"\n",
    "\n",
    "system = System(gsdfile, \"output_p3ht\", frame=-1, scale=3.5636, conversion_dict=amber_dict)\n",
    "system.visualize_system()"
   ]
  },
  {
   "cell_type": "markdown",
   "id": "cognitive-engineering",
   "metadata": {},
   "source": [
    "Next let's use SMARTS matching to detect our chromophores. This SMARTS string shown below is for p3ht. \n",
    "\n",
    "Note: The positions/orientations in the final frame of the gsd file are not optimal, so we are using the first frame (before any distortion) for SMARTS matching and then mapping those indices to the final structure. Sometimes SMARTS matching is not the best method to find the chromophores--check the ITIC example to see another method."
   ]
  },
  {
   "cell_type": "code",
   "execution_count": null,
   "id": "velvet-shade",
   "metadata": {},
   "outputs": [],
   "source": [
    "smarts_str = \"c1cscc1CCCCCC\"\n",
    "\n",
    "with gsd.hoomd.open(gsdfile) as f:\n",
    "    snap0 = f[0]\n",
    "\n",
    "aaids = get_chromo_ids_smiles(snap0, smarts_str, system.conversion_dict)"
   ]
  },
  {
   "cell_type": "markdown",
   "id": "surprised-variation",
   "metadata": {},
   "source": [
    "Next let's add these chromophores to the system and visualize them. We only have donor species in this system, and they'll be colored purple."
   ]
  },
  {
   "cell_type": "code",
   "execution_count": null,
   "id": "supported-amendment",
   "metadata": {},
   "outputs": [],
   "source": [
    "system.add_chromophores(aaids, \"donor\")\n",
    "\n",
    "system.visualize_chromophores()"
   ]
  },
  {
   "cell_type": "markdown",
   "id": "egyptian-patrick",
   "metadata": {},
   "source": [
    "Next let's compute the energies required to run the KMC simulation. First, the neighbors will be calculated (using voronoi analysis) and then the single and dimer energies will be calculated and saved to a file. (So that the simulation can be restarted from this point more easily.)"
   ]
  },
  {
   "cell_type": "code",
   "execution_count": null,
   "id": "pointed-dallas",
   "metadata": {},
   "outputs": [],
   "source": [
    "system.compute_energies()"
   ]
  },
  {
   "cell_type": "markdown",
   "id": "entitled-laptop",
   "metadata": {},
   "source": [
    "We can check that the pair and singles inputs look reasonable. There won't be any bonds and hydrogen atoms should've been added."
   ]
  },
  {
   "cell_type": "code",
   "execution_count": null,
   "id": "decreased-parking",
   "metadata": {},
   "outputs": [],
   "source": [
    "i = 86 # try any number from 0 to 191\n",
    "print(f\"Pair #{i}:\")\n",
    "system.visualize_qcc_input(i, single=False)\n",
    "\n",
    "i = 0 # try any number from 0 to 31\n",
    "print(f\"Single #{i}:\")\n",
    "system.visualize_qcc_input(i)"
   ]
  },
  {
   "cell_type": "markdown",
   "id": "focused-expansion",
   "metadata": {},
   "source": [
    "Once the energy files are finished, we can use them to set the energy values of the chromophores . (This can also be run to restart the calculation from this point.)"
   ]
  },
  {
   "cell_type": "code",
   "execution_count": null,
   "id": "steady-accessory",
   "metadata": {},
   "outputs": [],
   "source": [
    "system.set_energies(\"output_p3ht/singles_energies.txt\", \"output_p3ht/dimer_energies.txt\")"
   ]
  },
  {
   "cell_type": "markdown",
   "id": "christian-duration",
   "metadata": {},
   "source": [
    "This function sets the `homo_1`, `homo`, `lumo`, `lumo_1`, `neighbors_delta_e`, and `neighbors_ti` attributes of each chromphore:"
   ]
  },
  {
   "cell_type": "code",
   "execution_count": null,
   "id": "civil-adobe",
   "metadata": {},
   "outputs": [],
   "source": [
    "i = 0\n",
    "chromo = system.chromophores[i]\n",
    "print(f\"Chromophore {i}:\")\n",
    "print(\n",
    "    f\"HOMO-1: {chromo.homo_1:.2f} HOMO: {chromo.homo:.2f} LUMO: {chromo.lumo:.2f} \"\n",
    "    f\"LUMO+1: {chromo.lumo_1:.2f}\"\n",
    ")\n",
    "print(f\"{len(chromo.neighbors)} neighbors\")\n",
    "print(f\"DeltaE of first neighbor: {chromo.neighbors_delta_e[0]:.3f}\")\n",
    "print(f\"Transfer integral of first neighbor: {chromo.neighbors_ti[0]:.3f}\")"
   ]
  },
  {
   "cell_type": "markdown",
   "id": "inner-burns",
   "metadata": {},
   "source": [
    "With all the energy values set, we're ready to run KMC! We need to set the temperature that the KMC simulation will be run at and the lifetimes and numbers of our carriers:"
   ]
  },
  {
   "cell_type": "code",
   "execution_count": null,
   "id": "royal-resolution",
   "metadata": {},
   "outputs": [],
   "source": [
    "lifetimes = [1.00e-13, 1.00e-12]\n",
    "temp = 300\n",
    "system.run_kmc(lifetimes, temp, n_holes=10, verbose=1)"
   ]
  },
  {
   "cell_type": "markdown",
   "id": "young-governor",
   "metadata": {},
   "source": [
    "The output files for each process are saved in `output_p3ht/kmc/kmc_PROC#.log` (where `PROC#` is whatever process number the job was run on) and analysis plots will be saved in `output_p3ht/kmc/figures/`."
   ]
  },
  {
   "cell_type": "code",
   "execution_count": null,
   "id": "comfortable-title",
   "metadata": {},
   "outputs": [],
   "source": [
    "with open(\"output/kmc/kmc_00.log\", \"r\") as f:\n",
    "    lines = f.readlines()\n",
    "print(*lines)"
   ]
  },
  {
   "cell_type": "code",
   "execution_count": null,
   "id": "integrated-bicycle",
   "metadata": {},
   "outputs": [],
   "source": []
  }
 ],
 "metadata": {
  "kernelspec": {
   "display_name": "Python 3",
   "language": "python",
   "name": "python3"
  },
  "language_info": {
   "codemirror_mode": {
    "name": "ipython",
    "version": 3
   },
   "file_extension": ".py",
   "mimetype": "text/x-python",
   "name": "python",
   "nbconvert_exporter": "python",
   "pygments_lexer": "ipython3",
   "version": "3.7.10"
  }
 },
 "nbformat": 4,
 "nbformat_minor": 5
}
